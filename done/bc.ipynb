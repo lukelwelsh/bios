{
 "cells": [
  {
   "cell_type": "code",
   "execution_count": 2,
   "id": "b8c9094a-0e74-46e4-881d-1dc8a6529cc9",
   "metadata": {},
   "outputs": [],
   "source": [
    "school = \"bc\""
   ]
  },
  {
   "cell_type": "code",
   "execution_count": 3,
   "id": "3f532eb9-9400-40c3-8852-e7ef58d68669",
   "metadata": {},
   "outputs": [],
   "source": [
    "import requests\n",
    "from bs4 import BeautifulSoup\n",
    "import pandas as pd"
   ]
  },
  {
   "cell_type": "code",
   "execution_count": 4,
   "id": "143f556a-bfb7-4a1d-b8f6-a3326b4872e3",
   "metadata": {},
   "outputs": [],
   "source": [
    "with open(\"links.txt\") as f:\n",
    "    text = f.read()\n",
    "text = text.replace('\"', '')\n",
    "all_schools = {k[0].strip(): k[1].strip() for k in (school.split('-') for school in text.split('\\n'))}"
   ]
  },
  {
   "cell_type": "code",
   "execution_count": 5,
   "id": "cabadfae-fe82-47f1-897d-df731d26952e",
   "metadata": {},
   "outputs": [
    {
     "data": {
      "text/plain": [
       "{'Boston College': 'https://bceagles.com/index.aspx',\n",
       " 'Clemson University': 'https://clemsontigers.com/',\n",
       " 'Duke University': 'https://goduke.com/index.aspx',\n",
       " 'Florida State University': 'https://seminoles.com/',\n",
       " 'Georgia Institute of Technology (Georgia Tech)': 'https://ramblinwreck.com/',\n",
       " 'University of Louisville': 'https://gocards.com/',\n",
       " 'University of Miami': 'https://miamihurricanes.com/',\n",
       " 'University of North Carolina at Chapel Hill': 'https://goheels.com/',\n",
       " 'North Carolina State University': 'https://gopack.com/',\n",
       " 'University of Notre Dame': 'https://fightingirish.com/',\n",
       " 'University of Pittsburgh': 'https://pittsburghpanthers.com/index.aspx',\n",
       " 'Syracuse University': 'https://cuse.com/',\n",
       " 'University of Virginia': 'https://virginiasports.com/',\n",
       " 'Virginia Polytechnic Institute and State University (Virginia Tech)': 'https://hokiesports.com/index.aspx',\n",
       " 'Wake Forest University': 'https://godeacs.com/'}"
      ]
     },
     "execution_count": 5,
     "metadata": {},
     "output_type": "execute_result"
    }
   ],
   "source": [
    "all_schools"
   ]
  },
  {
   "cell_type": "code",
   "execution_count": 124,
   "id": "f6846fdf-5bb3-40d9-9dda-d6f10de5408e",
   "metadata": {},
   "outputs": [],
   "source": [
    "def get_roster(link):\n",
    "    data = pd.read_html(link)[2]\n",
    "    if 'Full Name' in data.columns:\n",
    "        data = data.rename(columns = {\"Full Name\": \"Name\"})\n",
    "    if 'Hometown / High School' in data.columns:\n",
    "        between = data['Hometown / High School'].str.extract(r'^/ (?P<HighSchool>.+)/(?P<Hometown>.+)$|^(?P<HometownOther>.+)/(?P<HighSchoolOther>.+)$')\n",
    "        between['Hometown'] = between['Hometown'].combine_first(between['HometownOther'])\n",
    "        between['HighSchool'] = between['HighSchool'].combine_first(between['HighSchoolOther'])\n",
    "        data[['Hometown', 'High School']] = between[['Hometown', 'HighSchool']]\n",
    "    elif 'Hometown / HS / Previous' in data.columns:\n",
    "        data[['Hometown', 'High School', 'Previous']] = data['Hometown / HS / Previous'].str.split('/', expand = True)\n",
    "    elif 'Hometown / High School / Previous' in data.columns:\n",
    "        data[['Hometown', 'High School', 'Previous']] = data['Hometown / High School / Previous'].str.split('/', expand = True)    \n",
    "    elif 'Hometown / Last School' in data.columns:\n",
    "        data[['Hometown', 'High School']] = data['Hometown / Last School'].str.split('/', expand = True)\n",
    "    elif 'Previous Team' in data.columns:\n",
    "        data = data.rename(columns = {'Previous Team': 'High School'})\n",
    "    elif 'Hometown / Last Team' in data.columns:\n",
    "        data[['Hometown', \"Other\"]] = data['Hometown / Last Team'].str.split('/', n = 1, expand = True)\n",
    "        if 'High School' not in data.columns:\n",
    "            data['High School'] = data['Other']\n",
    "    elif 'Ski Program' in data.columns:\n",
    "        data['High School'] = data['Ski Program']\n",
    "    elif 'Hometown/Previous Club' in data.columns:\n",
    "        data[['Hometown', 'High School']] = data['Hometown/Previous Club'].str.split('/', expand = True)\n",
    "    elif 'Hometown / Last Club' in data.columns:\n",
    "        data[['Hometown', 'High School']] = data['Hometown / Last Club'].str.split('/', n = 1, expand = True)\n",
    "    elif 'Hometown / Previous Team' in data.columns:\n",
    "        data[['Hometown', 'High School']] = data['Hometown / Previous Team'].str.split('/', expand = True)\n",
    "    elif 'Hometown / High School/ Previous School' in data.columns:\n",
    "        data[['Hometown', 'High School']] = data['Hometown / High School/ Previous School'].str.split('/',n=1, expand = True)\n",
    "    return data[['Name', 'Hometown', 'High School']]"
   ]
  },
  {
   "cell_type": "code",
   "execution_count": 40,
   "id": "c3480f63-f2a6-4242-b35f-178587150d27",
   "metadata": {},
   "outputs": [],
   "source": [
    "# all_sports = []\n",
    "# sports_1_year = []\n",
    "page = BeautifulSoup(requests.get(\"https://bceagles.com/sports/baseball/schedule\").content, 'html.parser')\n",
    "all_sports = [a.get(\"href\").split('/')[2] for a in page.find_all('a') if a.get('href') and 'roster' in a.get('href') and 'sports' in a.get('href') and 'https' not in a.get('href')]"
   ]
  },
  {
   "cell_type": "code",
   "execution_count": 90,
   "id": "bf46a341-0a2e-4315-87cd-6c4fec8d3300",
   "metadata": {
    "tags": []
   },
   "outputs": [],
   "source": [
    "def all_years(sport):\n",
    "    base_link = f\"https://bceagles.com/sports/{sport}/roster/?view=2\"\n",
    "    soup = BeautifulSoup(requests.get(f\"https://bceagles.com/sports/{sport}/roster/\").content, 'html.parser')\n",
    "    links_to_visit = [a['value'] for a in soup.find(attrs = {'id':'ddl_past_rosters'}).find_all('option')]\n",
    "    df = pd.DataFrame()\n",
    "    for link in links_to_visit:\n",
    "        year = link.split('/')[-1]\n",
    "        if \"201\" in year or \"202\" in year:\n",
    "            # print(year.split('-')[0])\n",
    "            try:\n",
    "                yearly = pd.DataFrame(get_roster(f\"https://bceagles.com{link}\"))\n",
    "                yearly['Year'] = year.split('-')[0]\n",
    "                df = pd.concat([df, yearly])\n",
    "            except Exception as error:\n",
    "                print(f\"https://bceagles.com{link}\", error)\n",
    "    df['sport'] = sport\n",
    "    return df\n"
   ]
  },
  {
   "cell_type": "code",
   "execution_count": 125,
   "id": "e3051056-badb-40d7-9f2d-512e23c9e980",
   "metadata": {},
   "outputs": [
    {
     "name": "stdout",
     "output_type": "stream",
     "text": [
      "baseball\n",
      "mens-basketball\n",
      "womens-basketball\n",
      "mens-cross-country\n",
      "womens-cross-country\n",
      "fencing\n",
      "field-hockey\n",
      "football\n",
      "mens-golf\n",
      "womens-golf\n",
      "mens-ice-hockey\n",
      "womens-ice-hockey\n",
      "womens-lacrosse\n",
      "womens-rowing\n",
      "sailing\n",
      "skiing\n",
      "mens-soccer\n",
      "womens-soccer\n",
      "https://bceagles.com/sports/womens-soccer/roster/2024 list index out of range\n",
      "https://bceagles.com/sports/womens-soccer/roster/2024 list index out of range\n",
      "softball\n",
      "swimming-and-diving\n",
      "mens-tennis\n",
      "womens-tennis\n",
      "mens-track-and-field\n",
      "https://bceagles.com/sports/mens-track-and-field/roster/2023-24 list index out of range\n",
      "https://bceagles.com/sports/mens-track-and-field/roster/2023-24 list index out of range\n",
      "womens-track-and-field\n",
      "womens-volleyball\n",
      "spirit-groups\n",
      "https://bceagles.com/sports/spirit-groups/roster/2015-16 list index out of range\n",
      "baseball\n"
     ]
    }
   ],
   "source": [
    "all_players = pd.DataFrame()\n",
    "# Update Sports for school\n",
    "for sport in all_sports:\n",
    "    print(sport)\n",
    "    all_players = pd.concat([all_players, all_years(sport)])"
   ]
  },
  {
   "cell_type": "code",
   "execution_count": 135,
   "id": "31411ce7-f99d-4cd7-b6ce-b1abfbc1c676",
   "metadata": {},
   "outputs": [],
   "source": [
    "dupes_gone = all_players.drop_duplicates(subset = ['Name', 'Hometown', 'High School'])"
   ]
  },
  {
   "cell_type": "code",
   "execution_count": 136,
   "id": "dd3418e8-4a55-4bb6-9363-7bfc45e50588",
   "metadata": {},
   "outputs": [],
   "source": [
    "dupes_gone.to_csv(f\"All_{school}.csv\")"
   ]
  }
 ],
 "metadata": {
  "kernelspec": {
   "display_name": "Python 3 (ipykernel)",
   "language": "python",
   "name": "python3"
  },
  "language_info": {
   "codemirror_mode": {
    "name": "ipython",
    "version": 3
   },
   "file_extension": ".py",
   "mimetype": "text/x-python",
   "name": "python",
   "nbconvert_exporter": "python",
   "pygments_lexer": "ipython3",
   "version": "3.10.12"
  }
 },
 "nbformat": 4,
 "nbformat_minor": 5
}
