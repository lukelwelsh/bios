{
 "cells": [
  {
   "cell_type": "code",
   "execution_count": 8,
   "id": "3f532eb9-9400-40c3-8852-e7ef58d68669",
   "metadata": {},
   "outputs": [],
   "source": [
    "import requests\n",
    "from bs4 import BeautifulSoup\n",
    "import pandas as pd"
   ]
  },
  {
   "cell_type": "code",
   "execution_count": 40,
   "id": "6c87a72c-167c-40fe-b1d2-a26f2860df9c",
   "metadata": {},
   "outputs": [],
   "source": [
    "url = \"https://godeacs.com/sports/mens-basketball/roster/2015-16\"\n",
    "page = requests.get(url)\n",
    "players = BeautifulSoup(page.content, 'html.parser').find_all(class_ = \"s-person-card s-person-card--list flex flex-col overflow-hidden rounded-[10px] border s-person-card--theme-light-theme shadow-level-1 border\")\n",
    "\n",
    "all_players = []\n",
    "for player in players: \n",
    "    player_info = {}\n",
    "    player_info[\"name\"] = player.find(class_ = \"hover:underline focus:underline\").text\n",
    "    attrs = player.find(class_ = \"s-person-details__bio-stats s-text-details s-text-details-bold py-0.5\").find_all(class_ = \"s-person-details__bio-stats-item\")\n",
    "    player_info[\"Position\"] = (attrs[0].contents[-1])\n",
    "    player_info[\"Academic Year\"] = (attrs[1].contents[-1])\n",
    "    try:\n",
    "        player_info[\"Height\"] = (attrs[2].contents[-1])\n",
    "    except:\n",
    "        player_info[\"Height\"] = \"NA\"\n",
    "    try:\n",
    "        player_info[\"Weight\"] = (attrs[3].contents[-1])\n",
    "    except:\n",
    "        player_info[\"Weight\"] = \"NA\"\n",
    "    \n",
    "    locations =  player.find_all(class_ = \"s-person-card__content__person__location-item\")\n",
    "    player_info[\"Hometown\"] = locations[0].contents[-1].text\n",
    "    try:\n",
    "        player_info[\"High School\"] = locations[1].contents[-1].text.split('/')[0]\n",
    "    except:\n",
    "        player_info[\"High School\"] = \"NA\"\n",
    "    all_players.append(player_info)"
   ]
  },
  {
   "cell_type": "code",
   "execution_count": 86,
   "id": "5af6bd3d-fa72-4ef8-8af2-bfb3040390d2",
   "metadata": {},
   "outputs": [],
   "source": [
    "def get_roster(url):\n",
    "    page = requests.get(url)\n",
    "    players = BeautifulSoup(page.content, 'html.parser').find_all(class_ = \"s-person-card s-person-card--list flex flex-col overflow-hidden rounded-[10px] border s-person-card--theme-light-theme shadow-level-1 border\")\n",
    "\n",
    "    all_players = []\n",
    "    for player in players: \n",
    "        player_info = {}\n",
    "        player_info[\"name\"] = player.find(class_ = \"hover:underline focus:underline\").text\n",
    "        attrs = player.find(class_ = \"s-person-details__bio-stats s-text-details s-text-details-bold py-0.5\").find_all(class_ = \"s-person-details__bio-stats-item\")\n",
    "        try:\n",
    "            player_info[\"Position\"] = (attrs[0].contents[-1])\n",
    "        except:\n",
    "            player_info[\"Position\"] = \"NA\"\n",
    "        try:\n",
    "            player_info[\"Academic Year\"] = (attrs[1].contents[-1])\n",
    "        except:\n",
    "            player_info[\"Academic Year\"] = \"NA\"\n",
    "        try:\n",
    "            player_info[\"Height\"] = (attrs[2].contents[-1])\n",
    "        except:\n",
    "            player_info[\"Height\"] = \"NA\"\n",
    "        try:\n",
    "            player_info[\"Weight\"] = (attrs[3].contents[-1])\n",
    "        except:\n",
    "            player_info[\"Weight\"] = \"NA\"\n",
    "\n",
    "        locations =  player.find_all(class_ = \"s-person-card__content__person__location-item\")\n",
    "        try:\n",
    "            player_info[\"Hometown\"] = locations[0].contents[-1].text\n",
    "        except:\n",
    "            player_info[\"Hometown\"] = 'NA'\n",
    "        try:\n",
    "            player_info[\"High School\"] = locations[1].contents[-1].text.split('/')[0]\n",
    "        except:\n",
    "            player_info[\"High School\"] = \"NA\"\n",
    "        all_players.append(player_info)\n",
    "    return all_players"
   ]
  },
  {
   "cell_type": "code",
   "execution_count": 90,
   "id": "bf46a341-0a2e-4315-87cd-6c4fec8d3300",
   "metadata": {},
   "outputs": [],
   "source": [
    "def all_years(sport):\n",
    "    df = pd.DataFrame()\n",
    "    for year in range(2011, 2024):\n",
    "        if sport in ['mens-basketball', 'mens-golf', 'womens-tennis', 'womens-golf', 'womens-basketball']:\n",
    "            season = str(year) + '-' + str(year + 1)[-2:]\n",
    "        else:\n",
    "            season = str(year)\n",
    "        link = f\"https://godeacs.com/sports/{sport}/roster/{season}\"\n",
    "        yearly = pd.DataFrame(get_roster(link))\n",
    "        yearly['Year'] = year\n",
    "        df = pd.concat([df, yearly])\n",
    "    df['sport'] = sport\n",
    "    return df"
   ]
  },
  {
   "cell_type": "code",
   "execution_count": 91,
   "id": "e3051056-badb-40d7-9f2d-512e23c9e980",
   "metadata": {},
   "outputs": [],
   "source": [
    "all_players = pd.DataFrame()\n",
    "all_sports = ['mens-basketball', 'mens-golf', 'womens-tennis', 'womens-golf', 'womens-basketball', 'baseball', 'football', 'cross-country', 'mens-soccer', 'womens-soccer', 'field-hockey']\n",
    "for sport in all_sports:\n",
    "    all_players = pd.concat([all_players, all_years_both(sport)])"
   ]
  },
  {
   "cell_type": "code",
   "execution_count": 161,
   "id": "b9ea062c-748c-489f-9968-82a8ec5f4e41",
   "metadata": {},
   "outputs": [],
   "source": [
    "import copy\n",
    "test = copy.deepcopy(all_players)\n",
    "substrings_to_keep = [' Rs.', ' Sr.', ' Jr.', ' So.', ' Fr.', ' R-Fr.', ' R-So.', ' R-Jr.', ' Gr.', ' R-Sr.', ' 5th']\n",
    "# all_players[all_players['Position'].str.contains('|'.join(substrings_to_keep))]\n",
    "# test.loc[test['Position'].isin(substrings_to_keep), 'C']"
   ]
  },
  {
   "cell_type": "code",
   "execution_count": 164,
   "id": "aa5c75c1-546c-423c-8cbe-2b402e6b89ca",
   "metadata": {},
   "outputs": [],
   "source": [
    "test.loc[test['Position'].isin(substrings_to_keep), \"Weight\"] = test.loc[test['Position'].isin(substrings_to_keep), \"Height\"]"
   ]
  },
  {
   "cell_type": "code",
   "execution_count": 165,
   "id": "f5f95cbe-0dd3-4117-ad78-c5dafa1b51f3",
   "metadata": {},
   "outputs": [],
   "source": [
    "test.loc[test['Position'].isin(substrings_to_keep), \"Height\"] = test.loc[test['Position'].isin(substrings_to_keep), \"Academic Year\"]\n",
    "test.loc[test['Position'].isin(substrings_to_keep), \"Academic Year\"] = test.loc[test['Position'].isin(substrings_to_keep), \"Position\"]"
   ]
  },
  {
   "cell_type": "code",
   "execution_count": 171,
   "id": "cd191320-8cd7-403b-bf84-60b99323f4a5",
   "metadata": {},
   "outputs": [],
   "source": [
    "test.loc[test['Position'].isin(substrings_to_keep), \"Position\"] = \"NA\""
   ]
  },
  {
   "cell_type": "code",
   "execution_count": 174,
   "id": "dd3418e8-4a55-4bb6-9363-7bfc45e50588",
   "metadata": {},
   "outputs": [],
   "source": [
    "test.to_csv(\"All_Wake.csv\")"
   ]
  }
 ],
 "metadata": {
  "kernelspec": {
   "display_name": "Python 3 (ipykernel)",
   "language": "python",
   "name": "python3"
  },
  "language_info": {
   "codemirror_mode": {
    "name": "ipython",
    "version": 3
   },
   "file_extension": ".py",
   "mimetype": "text/x-python",
   "name": "python",
   "nbconvert_exporter": "python",
   "pygments_lexer": "ipython3",
   "version": "3.10.12"
  }
 },
 "nbformat": 4,
 "nbformat_minor": 5
}
